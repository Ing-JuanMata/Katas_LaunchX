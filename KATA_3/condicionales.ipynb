{
 "cells": [
  {
   "cell_type": "markdown",
   "metadata": {},
   "source": [
    "# CONOCIENDO LAS CONDICIONALES"
   ]
  },
  {
   "cell_type": "markdown",
   "metadata": {},
   "source": [
    "## CONDICIONAL SIMPLE"
   ]
  },
  {
   "cell_type": "markdown",
   "metadata": {},
   "source": [
    "Para este ejercicio, escribirás una lógica condicional que imprima una advertencia si un asteroide se acerca a la Tierra demasiado rápido. La velocidad del asteroide varía dependiendo de lo cerca que esté del sol, y cualquier velocidad superior a 25 kilómetros por segundo (km/s) merece una advertencia."
   ]
  },
  {
   "cell_type": "markdown",
   "metadata": {},
   "source": [
    "Un asteroide se acerca, y viaja a una velocidad de 49 km/s."
   ]
  },
  {
   "cell_type": "code",
   "execution_count": 10,
   "metadata": {},
   "outputs": [
    {
     "name": "stdout",
     "output_type": "stream",
     "text": [
      "Se acerca un asteroide, pongase a cubierto\n"
     ]
    }
   ],
   "source": [
    "velocidad = 49 #VARIABLE PARA REGISTRAR LA VELOCIDAD DEL ASTEROIDE\n",
    "if velocidad > 25: #EXPRESION PARA CALCULAR SI ES NECESARIO UNA ADVERTENCIA\n",
    "  print(\"Se acerca un asteroide, pongase a cubierto\") #ADVERTENCIA\n",
    "else:\n",
    "  print(\"Todo en orden, siga con su dia\") #MENSAJE ESTANDAR"
   ]
  },
  {
   "cell_type": "markdown",
   "metadata": {},
   "source": [
    "Si un asteroide entra en la atmósfera de la Tierra a una velocidad mayor o igual a 20 km/s, a veces produce un rayo de luz que se puede ver desde la Tierra. Escribe la lógica condicional que usa declaraciones `if`, `else`, y `elif` para alertar a las personas de todo el mundo que deben buscar un asteroide en el cielo. ¡Hay uno que se dirige a la tierra ahora a una velocidad de 19 km/s!"
   ]
  },
  {
   "cell_type": "code",
   "execution_count": 9,
   "metadata": {},
   "outputs": [
    {
     "name": "stdout",
     "output_type": "stream",
     "text": [
      "Nada que ver por aqui, sigue adelante\n"
     ]
    }
   ],
   "source": [
    "velocidad = 19 # Agrega el código para crear una variable para un asteroide que viaja a 19 km/s\n",
    "if velocidad > 20: # Escribe varias expresiones de prueba para determinar si puedes ver el rayo de luz desde la tierra\n",
    "  print(\"Mira hay luces en el cielo\")\n",
    "elif velocidad == 20:\n",
    "  print(\"Mira hay luces en el cielo\")\n",
    "else:\n",
    "  print(\"Nada que ver por aqui, sigue adelante\")"
   ]
  },
  {
   "cell_type": "markdown",
   "metadata": {},
   "source": [
    "## Ejercicio: Uso de operadores `and` y `or`"
   ]
  },
  {
   "cell_type": "markdown",
   "metadata": {},
   "source": [
    "* Los asteroides de menos de 25 metros en su dimensión más grande probablemente se quemarán a medida que entren en la atmósfera de la Tierra.\n",
    "* Si una pieza de un asteroide que es mas grande que 25 metros pero más pequeña que 1000 metros golpeara la Tierra, causaría mucho daño.\n",
    "\n",
    "También discutimos en el ejercicio anterior que:\n",
    "* La velocidad del asteroide varía en función de lo cerca que esté del sol, y cualquier velocidad superior a 25 kilómetros por segundo (km/s) merece una advertencia.\n",
    "* Si un asteroide entra en la atmósfera de la Tierra a una velocidad mayor o igual a 20km/s, a veces produce un rayo de luz que se puede ver desde la Tierra.\n",
    "\n",
    "Usando toda esta información, escribe un programa que emita la advertencia o información correcta a la gente de la Tierra, según la velocidad y el tamaño de un asteroide. Utiliza instrucciones `if`, `else`, `elif`, asi como los operadores `and` y `or`."
   ]
  },
  {
   "cell_type": "code",
   "execution_count": 8,
   "metadata": {},
   "outputs": [
    {
     "name": "stdout",
     "output_type": "stream",
     "text": [
      "Amenaza de meteorito, busque refugio\n"
     ]
    }
   ],
   "source": [
    "#VARIABLES DE VELOCIDAD Y TAMAÑO\n",
    "velocidad = 22\n",
    "tamano = 50\n",
    "if velocidad > 25 or tamano >= 25:\n",
    "  print(\"Amenaza de meteorito, busque refugio\")\n",
    "elif velocidad >= 20:\n",
    "  print(\"Miren ese lindo destello en el cielo\")\n",
    "else:\n",
    "  print(\"Sin peligro ni emocion, sigue con tu dia\")"
   ]
  }
 ],
 "metadata": {
  "interpreter": {
   "hash": "375ffe169b9b2bfcc8892bffc7fa77cb3158b2e2294881d45810b3166de6757d"
  },
  "kernelspec": {
   "display_name": "Python 3.9.7 64-bit",
   "language": "python",
   "name": "python3"
  },
  "language_info": {
   "codemirror_mode": {
    "name": "ipython",
    "version": 3
   },
   "file_extension": ".py",
   "mimetype": "text/x-python",
   "name": "python",
   "nbconvert_exporter": "python",
   "pygments_lexer": "ipython3",
   "version": "3.9.7"
  },
  "orig_nbformat": 4
 },
 "nbformat": 4,
 "nbformat_minor": 2
}
